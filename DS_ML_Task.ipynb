{
 "cells": [
  {
   "cell_type": "code",
   "execution_count": 8,
   "metadata": {},
   "outputs": [],
   "source": [
    "import pandas as pd\n",
    "from sklearn.preprocessing import MultiLabelBinarizer\n",
    "from sklearn.metrics.pairwise import cosine_similarity"
   ]
  },
  {
   "cell_type": "code",
   "execution_count": 9,
   "metadata": {},
   "outputs": [],
   "source": [
    "# Define job roles and required skills\n",
    "roles_data = {\n",
    "    \"Data Scientist\": {\"Python\", \"Statistics\", \"Machine Learning\", \"Data Visualization\"},\n",
    "    \"ML Engineer\": {\"Python\", \"Machine Learning\", \"Deployment\", \"Algorithms\"},\n",
    "    \"Data Analyst\": {\"SQL\", \"Python\", \"Data Visualization\", \"Excel\"},\n",
    "    \"Data Engineer\": {\"Python\", \"SQL\", \"ETL\", \"Cloud Computing\"},\n",
    "    \"AI Researcher\": {\"Python\", \"Deep Learning\", \"Machine Learning\", \"Algorithms\"},\n",
    "    \"Business Analyst\": {\"Excel\", \"SQL\", \"Data Visualization\", \"Business Intelligence\"},\n",
    "    \"NLP Engineer\": {\"Python\", \"NLP\", \"Machine Learning\", \"Deep Learning\"}\n",
    "}"
   ]
  },
  {
   "cell_type": "code",
   "execution_count": 10,
   "metadata": {},
   "outputs": [],
   "source": [
    "# Convert skills into a DataFrame\n",
    "mlb = MultiLabelBinarizer()\n",
    "df = pd.DataFrame(mlb.fit_transform(roles_data.values()), index=roles_data.keys(), columns=mlb.classes_)"
   ]
  },
  {
   "cell_type": "code",
   "execution_count": 11,
   "metadata": {},
   "outputs": [],
   "source": [
    "# Create a lowercase mapping for roles\n",
    "roles_mapping = {role.lower(): role for role in roles_data}"
   ]
  },
  {
   "cell_type": "code",
   "execution_count": 12,
   "metadata": {},
   "outputs": [],
   "source": [
    "# Recommendation Function\n",
    "def get_top_recommendations_cosine(input_role, top_n=3, debug=False):\n",
    "    input_role = input_role.lower()  # Convert input to lowercase for case-insensitive matching\n",
    "\n",
    "    if input_role not in roles_mapping:\n",
    "        return \"Role not found!\"\n",
    "    \n",
    "    actual_role = roles_mapping[input_role]  # Get the properly formatted role name\n",
    "\n",
    "    # Prevent invalid top_n values\n",
    "    top_n = max(1, min(top_n, len(roles_data)-1))\n",
    "\n",
    "    input_vector = df.loc[actual_role].values.reshape(1, -1)\n",
    "    similarities = {}\n",
    "\n",
    "    for role in roles_data:\n",
    "        if role != actual_role:\n",
    "            role_vector = df.loc[role].values.reshape(1, -1)\n",
    "            similarity = cosine_similarity(input_vector, role_vector)[0][0]\n",
    "            similarities[role] = similarity\n",
    "\n",
    "    if debug:\n",
    "        print(f\"Cosine Similarity scores for {actual_role}: {similarities}\")\n",
    "\n",
    "    # Sort roles by similarity and return the top N\n",
    "    sorted_roles = sorted(similarities.items(), key=lambda x: x[1], reverse=True)\n",
    "    return [role for role, score in sorted_roles[:top_n]]\n"
   ]
  },
  {
   "cell_type": "code",
   "execution_count": 13,
   "metadata": {},
   "outputs": [
    {
     "name": "stdout",
     "output_type": "stream",
     "text": [
      "['Data Analyst', 'Data Scientist', 'Data Engineer']\n"
     ]
    }
   ],
   "source": [
    "print(get_top_recommendations_cosine(\"business analyst\"))  # Case insensitive check"
   ]
  },
  {
   "cell_type": "code",
   "execution_count": 14,
   "metadata": {},
   "outputs": [
    {
     "name": "stdout",
     "output_type": "stream",
     "text": [
      "['ML Engineer', 'Data Analyst', 'AI Researcher']\n"
     ]
    }
   ],
   "source": [
    "print(get_top_recommendations_cosine(\"data Scientist\"))  "
   ]
  }
 ],
 "metadata": {
  "kernelspec": {
   "display_name": "Python 3",
   "language": "python",
   "name": "python3"
  },
  "language_info": {
   "codemirror_mode": {
    "name": "ipython",
    "version": 3
   },
   "file_extension": ".py",
   "mimetype": "text/x-python",
   "name": "python",
   "nbconvert_exporter": "python",
   "pygments_lexer": "ipython3",
   "version": "3.12.4"
  }
 },
 "nbformat": 4,
 "nbformat_minor": 2
}
